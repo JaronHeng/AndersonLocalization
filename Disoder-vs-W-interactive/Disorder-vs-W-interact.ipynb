{
 "cells": [
  {
   "cell_type": "code",
   "execution_count": 183,
   "metadata": {},
   "outputs": [],
   "source": [
    "from matplotlib import pyplot as plt\n",
    "from ipywidgets import widgets\n"
   ]
  },
  {
   "cell_type": "code",
   "execution_count": 184,
   "metadata": {},
   "outputs": [],
   "source": [
    "W04 = open(\"./Data/TDOS04.dat\",\"r\") \n",
    "W10 = open(\"./Data/TDOS10.dat\",\"r\")\n",
    "W165 = open(\"./Data/TDOS165.dat\",\"r\")\n",
    "\n",
    "GT04 = []\n",
    "GT10 = []\n",
    "GT165 = []\n",
    "\n",
    "GA04 = []\n",
    "GA10 = []\n",
    "GA165 = []\n",
    "\n",
    "x = []\n",
    "\n",
    "W04.readline()\n",
    "W10.readline()\n",
    "W165.readline()\n",
    "\n",
    "for line in W04:\n",
    "    values = line.split()\n",
    "    x.append(float(values[0]))\n",
    "    GT04.append(float(values[1]))\n",
    "\n",
    "for line in W10:\n",
    "    values = line.split()\n",
    "    GT10.append(float(values[1]))\n",
    "\n",
    "for line in W165:\n",
    "    values = line.split()\n",
    "    GT165.append(float(values[1]))\n",
    "\n",
    "W04.close()\n",
    "W10.close()\n",
    "W165.close()\n",
    "\n",
    "W04 = open(\"./Data/ADOS04.dat\",\"r\") \n",
    "W10 = open(\"./Data/ADOS10.dat\",\"r\")\n",
    "W165 = open(\"./Data/ADOS165.dat\",\"r\")\n",
    "\n",
    "W04.readline()\n",
    "W10.readline()\n",
    "W165.readline()\n",
    "\n",
    "for line in W04:\n",
    "    values = line.split()\n",
    "    GA04.append(float(values[1]))\n",
    "\n",
    "for line in W10:\n",
    "    values = line.split()\n",
    "    GA10.append(float(values[1]))\n",
    "\n",
    "for line in W165:\n",
    "    values = line.split()\n",
    "    GA165.append(float(values[1]))"
   ]
  },
  {
   "cell_type": "code",
   "execution_count": 185,
   "metadata": {},
   "outputs": [],
   "source": [
    "def plot(W,showADOS):\n",
    "\n",
    "    plt.ylim((0,0.7))\n",
    "    plt.title(\"Density of states\")\n",
    "    \n",
    "    \n",
    "    if showADOS == True:      \n",
    "        if W == 1:\n",
    "            plt.xlabel(\"Disorder W=0.4\")\n",
    "            p1 = plt.plot(x,GT04)\n",
    "            p2 = plt.plot(x,GA04,'r')\n",
    "        elif W == 2:\n",
    "            plt.xlabel(\"Disorder, W=1.0\")\n",
    "            p1 = plt.plot(x,GT10)\n",
    "            p2 = plt.plot(x,GA10,'r')\n",
    "        elif W == 3:\n",
    "            plt.xlabel(\"Disorder, W=1.65\")\n",
    "            p1 = plt.plot(x,GT165)\n",
    "            p2 = plt.plot(x,GA165, 'r')\n",
    "        plt.legend(['TDOS','ADOS'])\n",
    "        \n",
    "    else:\n",
    "        if W == 1:\n",
    "            plt.xlabel(\"Disorder W=0.4\")\n",
    "            p1 = plt.plot(x,GT04)\n",
    "        elif W == 2:\n",
    "            plt.xlabel(\"Disorder, W=1.0\")\n",
    "            p1 = plt.plot(x,GT10)\n",
    "        elif W == 3:\n",
    "            plt.xlabel(\"Disorder, W=1.65\")\n",
    "            p1 = plt.plot(x,GT165)\n",
    "        plt.legend(['TDOS'])\n",
    "        \n",
    "    \n",
    "        \n"
   ]
  },
  {
   "cell_type": "code",
   "execution_count": 186,
   "metadata": {},
   "outputs": [
    {
     "data": {
      "application/vnd.jupyter.widget-view+json": {
       "model_id": "20497fc07f564f7f9239d2ce46421609",
       "version_major": 2,
       "version_minor": 0
      },
      "text/plain": [
       "interactive(children=(IntSlider(value=2, description='W', max=3, min=1), Checkbox(value=True, description='sho…"
      ]
     },
     "metadata": {},
     "output_type": "display_data"
    },
    {
     "data": {
      "text/plain": [
       "<function __main__.plot(W, showADOS)>"
      ]
     },
     "execution_count": 186,
     "metadata": {},
     "output_type": "execute_result"
    }
   ],
   "source": [
    "widgets.interact(plot, W = (1,3,1), showADOS = True)"
   ]
  },
  {
   "cell_type": "code",
   "execution_count": null,
   "metadata": {},
   "outputs": [],
   "source": []
  },
  {
   "cell_type": "code",
   "execution_count": null,
   "metadata": {},
   "outputs": [],
   "source": []
  }
 ],
 "metadata": {
  "kernelspec": {
   "display_name": "Python 3",
   "language": "python",
   "name": "python3"
  },
  "language_info": {
   "codemirror_mode": {
    "name": "ipython",
    "version": 3
   },
   "file_extension": ".py",
   "mimetype": "text/x-python",
   "name": "python",
   "nbconvert_exporter": "python",
   "pygments_lexer": "ipython3",
   "version": "3.7.2"
  }
 },
 "nbformat": 4,
 "nbformat_minor": 4
}

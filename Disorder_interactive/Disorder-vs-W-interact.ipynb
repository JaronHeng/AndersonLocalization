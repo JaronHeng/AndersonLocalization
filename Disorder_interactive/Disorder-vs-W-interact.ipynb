{
 "cells": [
  {
   "cell_type": "code",
   "execution_count": 2,
   "metadata": {},
   "outputs": [],
   "source": [
    "from matplotlib import pyplot as plt\n",
    "from ipywidgets import widgets\n"
   ]
  },
  {
   "cell_type": "code",
   "execution_count": 23,
   "metadata": {},
   "outputs": [],
   "source": [
    "GT = []\n",
    "GA = []\n",
    "x = []\n",
    "disVals = [0.4,0.6,0.8,1.0,1.2,1.4,1.65,1.75]\n",
    "\n",
    "run=0\n",
    "for i in disVals:\n",
    "    wDat = open(\"./Data/TDOS\"+str(i)+\".dat\",\"r\")\n",
    "    GT.append([])\n",
    "    \n",
    "    wDat.readline()\n",
    "    for line in wDat:\n",
    "        values = line.split()\n",
    "        GT[run].append(float(values[1]))\n",
    "        if i == 0.4:\n",
    "            x.append(float(values[0]))\n",
    "    wDat.close()\n",
    "    run += 1\n",
    "    \n",
    "run=0\n",
    "for i in disVals:\n",
    "    wDat = open(\"./Data/ADOS\"+str(i)+\".dat\",\"r\")\n",
    "    GA.append([])\n",
    "    \n",
    "    wDat.readline()\n",
    "    for line in wDat:\n",
    "        values = line.split()\n",
    "        GA[run].append(float(values[1]))\n",
    "    \n",
    "    wDat.close()\n",
    "    run += 1"
   ]
  },
  {
   "cell_type": "code",
   "execution_count": 24,
   "metadata": {},
   "outputs": [],
   "source": [
    "def plots(W, showADOS):\n",
    "    fig = plt.figure(figsize = (20,4))\n",
    "    gs = fig.add_gridspec(1,3,width_ratios = [1.5,1,.75])\n",
    "    \n",
    "    DOS = fig.add_subplot(gs[0])\n",
    "    at0 = fig.add_subplot(gs[1], sharey = DOS)\n",
    "    bar = fig.add_subplot(gs[2], sharey = DOS)\n",
    "    \n",
    "    Tat0 = []\n",
    "    Aat0 = []\n",
    "    \n",
    "    for i in range(0,len(disVals)):\n",
    "        Tat0.append(GT[i][150])\n",
    "        Aat0.append(GA[i][150])\n",
    "    \n",
    "    if showADOS:   \n",
    "        DOS.plot(x,GT[W],x,GA[W],'r')\n",
    "        at0.plot(disVals,Tat0,disVals,Aat0,'r')\n",
    "        bar.bar(['TDOS','ADOS'], [Tat0[W],Aat0[W]],color = ['b','r'])\n",
    "        DOS.legend(('TDOS','ADOS'))\n",
    "        \n",
    "    else:\n",
    "        DOS.plot(x,GT[W])\n",
    "        at0.plot(disVals, Tat0)\n",
    "        bar.bar(['TDOS'],[Tat0[W]])\n",
    "        DOS.legend('TDOS')\n",
    "        \n",
    "    DOS.fill_between(x,0,GT[W])\n",
    "    DOS.hlines(0,x[0],x[-1])\n",
    "    \n",
    "    plt.suptitle('Disorder, W='+str(disVals[W]))\n",
    "    \n",
    "    at0.plot(disVals[W], Tat0[W],'g*')\n",
    "    at0.hlines(0,0.4,1.8)"
   ]
  },
  {
   "cell_type": "code",
   "execution_count": 25,
   "metadata": {
    "scrolled": false
   },
   "outputs": [
    {
     "data": {
      "application/vnd.jupyter.widget-view+json": {
       "model_id": "a906cb1a67ff4bb28186ab3051618eab",
       "version_major": 2,
       "version_minor": 0
      },
      "text/plain": [
       "interactive(children=(IntSlider(value=3, description='W', max=7), Checkbox(value=True, description='showADOS')…"
      ]
     },
     "metadata": {},
     "output_type": "display_data"
    },
    {
     "data": {
      "text/plain": [
       "<function __main__.plots(W, showADOS)>"
      ]
     },
     "execution_count": 25,
     "metadata": {},
     "output_type": "execute_result"
    }
   ],
   "source": [
    "widgets.interact(plots, W = (0,7,1), showADOS= True)"
   ]
  },
  {
   "cell_type": "code",
   "execution_count": 22,
   "metadata": {},
   "outputs": [
    {
     "name": "stdout",
     "output_type": "stream",
     "text": [
      "[]\n"
     ]
    }
   ],
   "source": []
  }
 ],
 "metadata": {
  "kernelspec": {
   "display_name": "Python 3",
   "language": "python",
   "name": "python3"
  },
  "language_info": {
   "codemirror_mode": {
    "name": "ipython",
    "version": 3
   },
   "file_extension": ".py",
   "mimetype": "text/x-python",
   "name": "python",
   "nbconvert_exporter": "python",
   "pygments_lexer": "ipython3",
   "version": "3.7.2"
  }
 },
 "nbformat": 4,
 "nbformat_minor": 4
}
